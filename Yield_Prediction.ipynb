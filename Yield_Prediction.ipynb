{
  "nbformat": 4,
  "nbformat_minor": 0,
  "metadata": {
    "colab": {
      "name": "Yield_Prediction.ipynb",
      "provenance": []
    },
    "kernelspec": {
      "name": "python3",
      "display_name": "Python 3"
    },
    "language_info": {
      "name": "python"
    }
  },
  "cells": [
    {
      "cell_type": "code",
      "metadata": {
        "id": "lwMrFRxuvj2Z"
      },
      "source": [
        "from google.colab import drive"
      ],
      "execution_count": 1,
      "outputs": []
    },
    {
      "cell_type": "code",
      "metadata": {
        "colab": {
          "base_uri": "https://localhost:8080/"
        },
        "id": "uj9N81afvwWC",
        "outputId": "dc75c347-2705-44e1-ed03-ff85a86366af"
      },
      "source": [
        "drive.mount('/content/drive/')"
      ],
      "execution_count": 2,
      "outputs": [
        {
          "output_type": "stream",
          "name": "stdout",
          "text": [
            "Mounted at /content/drive/\n"
          ]
        }
      ]
    },
    {
      "cell_type": "code",
      "metadata": {
        "id": "JWkxd0l-vzzj"
      },
      "source": [
        "import numpy as np\n",
        "import pandas as pd\n"
      ],
      "execution_count": 3,
      "outputs": []
    },
    {
      "cell_type": "code",
      "metadata": {
        "colab": {
          "base_uri": "https://localhost:8080/",
          "height": 241
        },
        "id": "e_kET-c_wIeH",
        "outputId": "2e7a2ed4-8ba7-442b-8496-c579e4b3ba9e"
      },
      "source": [
        "df=pd.read_csv('/content/drive/MyDrive/datafile (1).csv')\n",
        "df.head()"
      ],
      "execution_count": 131,
      "outputs": [
        {
          "output_type": "execute_result",
          "data": {
            "text/html": [
              "<div>\n",
              "<style scoped>\n",
              "    .dataframe tbody tr th:only-of-type {\n",
              "        vertical-align: middle;\n",
              "    }\n",
              "\n",
              "    .dataframe tbody tr th {\n",
              "        vertical-align: top;\n",
              "    }\n",
              "\n",
              "    .dataframe thead th {\n",
              "        text-align: right;\n",
              "    }\n",
              "</style>\n",
              "<table border=\"1\" class=\"dataframe\">\n",
              "  <thead>\n",
              "    <tr style=\"text-align: right;\">\n",
              "      <th></th>\n",
              "      <th>Crop</th>\n",
              "      <th>State</th>\n",
              "      <th>Cost of Cultivation (`/Hectare) A2+FL</th>\n",
              "      <th>Cost of Cultivation (`/Hectare) C2</th>\n",
              "      <th>Cost of Production (`/Quintal) C2</th>\n",
              "      <th>Yield (Quintal/ Hectare)</th>\n",
              "    </tr>\n",
              "  </thead>\n",
              "  <tbody>\n",
              "    <tr>\n",
              "      <th>0</th>\n",
              "      <td>ARHAR</td>\n",
              "      <td>Uttar Pradesh</td>\n",
              "      <td>9794.05</td>\n",
              "      <td>23076.74</td>\n",
              "      <td>1941.55</td>\n",
              "      <td>9.83</td>\n",
              "    </tr>\n",
              "    <tr>\n",
              "      <th>1</th>\n",
              "      <td>ARHAR</td>\n",
              "      <td>Karnataka</td>\n",
              "      <td>10593.15</td>\n",
              "      <td>16528.68</td>\n",
              "      <td>2172.46</td>\n",
              "      <td>7.47</td>\n",
              "    </tr>\n",
              "    <tr>\n",
              "      <th>2</th>\n",
              "      <td>ARHAR</td>\n",
              "      <td>Gujarat</td>\n",
              "      <td>13468.82</td>\n",
              "      <td>19551.90</td>\n",
              "      <td>1898.30</td>\n",
              "      <td>9.59</td>\n",
              "    </tr>\n",
              "    <tr>\n",
              "      <th>3</th>\n",
              "      <td>ARHAR</td>\n",
              "      <td>Andhra Pradesh</td>\n",
              "      <td>17051.66</td>\n",
              "      <td>24171.65</td>\n",
              "      <td>3670.54</td>\n",
              "      <td>6.42</td>\n",
              "    </tr>\n",
              "    <tr>\n",
              "      <th>4</th>\n",
              "      <td>ARHAR</td>\n",
              "      <td>Maharashtra</td>\n",
              "      <td>17130.55</td>\n",
              "      <td>25270.26</td>\n",
              "      <td>2775.80</td>\n",
              "      <td>8.72</td>\n",
              "    </tr>\n",
              "  </tbody>\n",
              "</table>\n",
              "</div>"
            ],
            "text/plain": [
              "    Crop  ... Yield (Quintal/ Hectare) \n",
              "0  ARHAR  ...                      9.83\n",
              "1  ARHAR  ...                      7.47\n",
              "2  ARHAR  ...                      9.59\n",
              "3  ARHAR  ...                      6.42\n",
              "4  ARHAR  ...                      8.72\n",
              "\n",
              "[5 rows x 6 columns]"
            ]
          },
          "metadata": {},
          "execution_count": 131
        }
      ]
    },
    {
      "cell_type": "code",
      "metadata": {
        "colab": {
          "base_uri": "https://localhost:8080/"
        },
        "id": "91rXwjqjwhR5",
        "outputId": "c104e715-65cc-4c1f-d278-c8f6a468040a"
      },
      "source": [
        "df.shape"
      ],
      "execution_count": 132,
      "outputs": [
        {
          "output_type": "execute_result",
          "data": {
            "text/plain": [
              "(49, 6)"
            ]
          },
          "metadata": {},
          "execution_count": 132
        }
      ]
    },
    {
      "cell_type": "code",
      "metadata": {
        "colab": {
          "base_uri": "https://localhost:8080/"
        },
        "id": "Ro-A08ePwmP-",
        "outputId": "fdac9e19-039f-49c8-ad94-fb8709a48e83"
      },
      "source": [
        "df.nunique()"
      ],
      "execution_count": 133,
      "outputs": [
        {
          "output_type": "execute_result",
          "data": {
            "text/plain": [
              "Crop                                     10\n",
              "State                                    13\n",
              "Cost of Cultivation (`/Hectare) A2+FL    49\n",
              "Cost of Cultivation (`/Hectare) C2       49\n",
              "Cost of Production (`/Quintal) C2        49\n",
              "Yield (Quintal/ Hectare)                 49\n",
              "dtype: int64"
            ]
          },
          "metadata": {},
          "execution_count": 133
        }
      ]
    },
    {
      "cell_type": "code",
      "metadata": {
        "colab": {
          "base_uri": "https://localhost:8080/"
        },
        "id": "ZRtOtKCmx1Nu",
        "outputId": "b8ea735f-5f26-4b33-c9e8-f218d3ccea97"
      },
      "source": [
        "df.isnull().sum()"
      ],
      "execution_count": 134,
      "outputs": [
        {
          "output_type": "execute_result",
          "data": {
            "text/plain": [
              "Crop                                     0\n",
              "State                                    0\n",
              "Cost of Cultivation (`/Hectare) A2+FL    0\n",
              "Cost of Cultivation (`/Hectare) C2       0\n",
              "Cost of Production (`/Quintal) C2        0\n",
              "Yield (Quintal/ Hectare)                 0\n",
              "dtype: int64"
            ]
          },
          "metadata": {},
          "execution_count": 134
        }
      ]
    },
    {
      "cell_type": "code",
      "metadata": {
        "colab": {
          "base_uri": "https://localhost:8080/"
        },
        "id": "c_4wu8scx53r",
        "outputId": "b0607fe9-f3dd-4bd4-9ec5-e93a6f2f4578"
      },
      "source": [
        "df.info()"
      ],
      "execution_count": 135,
      "outputs": [
        {
          "output_type": "stream",
          "name": "stdout",
          "text": [
            "<class 'pandas.core.frame.DataFrame'>\n",
            "RangeIndex: 49 entries, 0 to 48\n",
            "Data columns (total 6 columns):\n",
            " #   Column                                 Non-Null Count  Dtype  \n",
            "---  ------                                 --------------  -----  \n",
            " 0   Crop                                   49 non-null     object \n",
            " 1   State                                  49 non-null     object \n",
            " 2   Cost of Cultivation (`/Hectare) A2+FL  49 non-null     float64\n",
            " 3   Cost of Cultivation (`/Hectare) C2     49 non-null     float64\n",
            " 4   Cost of Production (`/Quintal) C2      49 non-null     float64\n",
            " 5   Yield (Quintal/ Hectare)               49 non-null     float64\n",
            "dtypes: float64(4), object(2)\n",
            "memory usage: 2.4+ KB\n"
          ]
        }
      ]
    },
    {
      "cell_type": "code",
      "metadata": {
        "colab": {
          "base_uri": "https://localhost:8080/",
          "height": 300
        },
        "id": "j0jDLlplx9I6",
        "outputId": "814a0edb-c26d-456c-8a1c-9c712f5801cf"
      },
      "source": [
        "df.describe()"
      ],
      "execution_count": 136,
      "outputs": [
        {
          "output_type": "execute_result",
          "data": {
            "text/html": [
              "<div>\n",
              "<style scoped>\n",
              "    .dataframe tbody tr th:only-of-type {\n",
              "        vertical-align: middle;\n",
              "    }\n",
              "\n",
              "    .dataframe tbody tr th {\n",
              "        vertical-align: top;\n",
              "    }\n",
              "\n",
              "    .dataframe thead th {\n",
              "        text-align: right;\n",
              "    }\n",
              "</style>\n",
              "<table border=\"1\" class=\"dataframe\">\n",
              "  <thead>\n",
              "    <tr style=\"text-align: right;\">\n",
              "      <th></th>\n",
              "      <th>Cost of Cultivation (`/Hectare) A2+FL</th>\n",
              "      <th>Cost of Cultivation (`/Hectare) C2</th>\n",
              "      <th>Cost of Production (`/Quintal) C2</th>\n",
              "      <th>Yield (Quintal/ Hectare)</th>\n",
              "    </tr>\n",
              "  </thead>\n",
              "  <tbody>\n",
              "    <tr>\n",
              "      <th>count</th>\n",
              "      <td>49.000000</td>\n",
              "      <td>49.000000</td>\n",
              "      <td>49.000000</td>\n",
              "      <td>49.000000</td>\n",
              "    </tr>\n",
              "    <tr>\n",
              "      <th>mean</th>\n",
              "      <td>20363.537347</td>\n",
              "      <td>31364.666735</td>\n",
              "      <td>1620.537755</td>\n",
              "      <td>98.086735</td>\n",
              "    </tr>\n",
              "    <tr>\n",
              "      <th>std</th>\n",
              "      <td>13561.435306</td>\n",
              "      <td>20095.783569</td>\n",
              "      <td>1104.990472</td>\n",
              "      <td>245.293123</td>\n",
              "    </tr>\n",
              "    <tr>\n",
              "      <th>min</th>\n",
              "      <td>5483.540000</td>\n",
              "      <td>7868.640000</td>\n",
              "      <td>85.790000</td>\n",
              "      <td>1.320000</td>\n",
              "    </tr>\n",
              "    <tr>\n",
              "      <th>25%</th>\n",
              "      <td>12774.410000</td>\n",
              "      <td>19259.840000</td>\n",
              "      <td>732.620000</td>\n",
              "      <td>9.590000</td>\n",
              "    </tr>\n",
              "    <tr>\n",
              "      <th>50%</th>\n",
              "      <td>17022.000000</td>\n",
              "      <td>25909.050000</td>\n",
              "      <td>1595.560000</td>\n",
              "      <td>13.700000</td>\n",
              "    </tr>\n",
              "    <tr>\n",
              "      <th>75%</th>\n",
              "      <td>24731.060000</td>\n",
              "      <td>35423.480000</td>\n",
              "      <td>2228.970000</td>\n",
              "      <td>36.610000</td>\n",
              "    </tr>\n",
              "    <tr>\n",
              "      <th>max</th>\n",
              "      <td>66335.060000</td>\n",
              "      <td>91442.630000</td>\n",
              "      <td>5777.480000</td>\n",
              "      <td>1015.450000</td>\n",
              "    </tr>\n",
              "  </tbody>\n",
              "</table>\n",
              "</div>"
            ],
            "text/plain": [
              "       Cost of Cultivation (`/Hectare) A2+FL  ...  Yield (Quintal/ Hectare) \n",
              "count                              49.000000  ...                  49.000000\n",
              "mean                            20363.537347  ...                  98.086735\n",
              "std                             13561.435306  ...                 245.293123\n",
              "min                              5483.540000  ...                   1.320000\n",
              "25%                             12774.410000  ...                   9.590000\n",
              "50%                             17022.000000  ...                  13.700000\n",
              "75%                             24731.060000  ...                  36.610000\n",
              "max                             66335.060000  ...                1015.450000\n",
              "\n",
              "[8 rows x 4 columns]"
            ]
          },
          "metadata": {},
          "execution_count": 136
        }
      ]
    },
    {
      "cell_type": "code",
      "metadata": {
        "colab": {
          "base_uri": "https://localhost:8080/",
          "height": 241
        },
        "id": "O5KAu7nQ21GD",
        "outputId": "b9d7d885-152f-4663-b6df-4298c0483d45"
      },
      "source": [
        "df.head()"
      ],
      "execution_count": 137,
      "outputs": [
        {
          "output_type": "execute_result",
          "data": {
            "text/html": [
              "<div>\n",
              "<style scoped>\n",
              "    .dataframe tbody tr th:only-of-type {\n",
              "        vertical-align: middle;\n",
              "    }\n",
              "\n",
              "    .dataframe tbody tr th {\n",
              "        vertical-align: top;\n",
              "    }\n",
              "\n",
              "    .dataframe thead th {\n",
              "        text-align: right;\n",
              "    }\n",
              "</style>\n",
              "<table border=\"1\" class=\"dataframe\">\n",
              "  <thead>\n",
              "    <tr style=\"text-align: right;\">\n",
              "      <th></th>\n",
              "      <th>Crop</th>\n",
              "      <th>State</th>\n",
              "      <th>Cost of Cultivation (`/Hectare) A2+FL</th>\n",
              "      <th>Cost of Cultivation (`/Hectare) C2</th>\n",
              "      <th>Cost of Production (`/Quintal) C2</th>\n",
              "      <th>Yield (Quintal/ Hectare)</th>\n",
              "    </tr>\n",
              "  </thead>\n",
              "  <tbody>\n",
              "    <tr>\n",
              "      <th>0</th>\n",
              "      <td>ARHAR</td>\n",
              "      <td>Uttar Pradesh</td>\n",
              "      <td>9794.05</td>\n",
              "      <td>23076.74</td>\n",
              "      <td>1941.55</td>\n",
              "      <td>9.83</td>\n",
              "    </tr>\n",
              "    <tr>\n",
              "      <th>1</th>\n",
              "      <td>ARHAR</td>\n",
              "      <td>Karnataka</td>\n",
              "      <td>10593.15</td>\n",
              "      <td>16528.68</td>\n",
              "      <td>2172.46</td>\n",
              "      <td>7.47</td>\n",
              "    </tr>\n",
              "    <tr>\n",
              "      <th>2</th>\n",
              "      <td>ARHAR</td>\n",
              "      <td>Gujarat</td>\n",
              "      <td>13468.82</td>\n",
              "      <td>19551.90</td>\n",
              "      <td>1898.30</td>\n",
              "      <td>9.59</td>\n",
              "    </tr>\n",
              "    <tr>\n",
              "      <th>3</th>\n",
              "      <td>ARHAR</td>\n",
              "      <td>Andhra Pradesh</td>\n",
              "      <td>17051.66</td>\n",
              "      <td>24171.65</td>\n",
              "      <td>3670.54</td>\n",
              "      <td>6.42</td>\n",
              "    </tr>\n",
              "    <tr>\n",
              "      <th>4</th>\n",
              "      <td>ARHAR</td>\n",
              "      <td>Maharashtra</td>\n",
              "      <td>17130.55</td>\n",
              "      <td>25270.26</td>\n",
              "      <td>2775.80</td>\n",
              "      <td>8.72</td>\n",
              "    </tr>\n",
              "  </tbody>\n",
              "</table>\n",
              "</div>"
            ],
            "text/plain": [
              "    Crop  ... Yield (Quintal/ Hectare) \n",
              "0  ARHAR  ...                      9.83\n",
              "1  ARHAR  ...                      7.47\n",
              "2  ARHAR  ...                      9.59\n",
              "3  ARHAR  ...                      6.42\n",
              "4  ARHAR  ...                      8.72\n",
              "\n",
              "[5 rows x 6 columns]"
            ]
          },
          "metadata": {},
          "execution_count": 137
        }
      ]
    },
    {
      "cell_type": "code",
      "metadata": {
        "colab": {
          "base_uri": "https://localhost:8080/",
          "height": 387
        },
        "id": "vt-5_IJoAjnT",
        "outputId": "a7e5335f-8cb4-4b6b-e1c0-45099295d059"
      },
      "source": [
        "import seaborn as sns\n",
        "sns.FacetGrid(df, hue=\"Crop\", size=5) \\\n",
        "   .map(plt.scatter, 'Cost of Cultivation (`/Hectare) C2', 'Yield (Quintal/ Hectare) ') \\\n",
        "   .add_legend()"
      ],
      "execution_count": 138,
      "outputs": [
        {
          "output_type": "execute_result",
          "data": {
            "text/plain": [
              "<seaborn.axisgrid.FacetGrid at 0x7f55259399d0>"
            ]
          },
          "metadata": {},
          "execution_count": 138
        },
        {
          "output_type": "display_data",
          "data": {
            "image/png": "[encoded data removed]",
            "text/plain": [
              "<Figure size 525.5x360 with 1 Axes>"
            ]
          },
          "metadata": {
            "needs_background": "light"
          }
        }
      ]
    },
    {
      "cell_type": "code",
      "metadata": {
        "colab": {
          "base_uri": "https://localhost:8080/",
          "height": 243
        },
        "id": "s0V0c1_57Leb",
        "outputId": "2521a0ab-7d41-457d-b807-bcba867fbbc4"
      },
      "source": [
        "x=pd.get_dummies(df[['Crop','State']])\n",
        "x.head()"
      ],
      "execution_count": 139,
      "outputs": [
        {
          "output_type": "execute_result",
          "data": {
            "text/html": [
              "<div>\n",
              "<style scoped>\n",
              "    .dataframe tbody tr th:only-of-type {\n",
              "        vertical-align: middle;\n",
              "    }\n",
              "\n",
              "    .dataframe tbody tr th {\n",
              "        vertical-align: top;\n",
              "    }\n",
              "\n",
              "    .dataframe thead th {\n",
              "        text-align: right;\n",
              "    }\n",
              "</style>\n",
              "<table border=\"1\" class=\"dataframe\">\n",
              "  <thead>\n",
              "    <tr style=\"text-align: right;\">\n",
              "      <th></th>\n",
              "      <th>Crop_ARHAR</th>\n",
              "      <th>Crop_COTTON</th>\n",
              "      <th>Crop_GRAM</th>\n",
              "      <th>Crop_GROUNDNUT</th>\n",
              "      <th>Crop_MAIZE</th>\n",
              "      <th>Crop_MOONG</th>\n",
              "      <th>Crop_PADDY</th>\n",
              "      <th>Crop_RAPESEED AND MUSTARD</th>\n",
              "      <th>Crop_SUGARCANE</th>\n",
              "      <th>Crop_WHEAT</th>\n",
              "      <th>State_Andhra Pradesh</th>\n",
              "      <th>State_Bihar</th>\n",
              "      <th>State_Gujarat</th>\n",
              "      <th>State_Haryana</th>\n",
              "      <th>State_Karnataka</th>\n",
              "      <th>State_Madhya Pradesh</th>\n",
              "      <th>State_Maharashtra</th>\n",
              "      <th>State_Orissa</th>\n",
              "      <th>State_Punjab</th>\n",
              "      <th>State_Rajasthan</th>\n",
              "      <th>State_Tamil Nadu</th>\n",
              "      <th>State_Uttar Pradesh</th>\n",
              "      <th>State_West Bengal</th>\n",
              "    </tr>\n",
              "  </thead>\n",
              "  <tbody>\n",
              "    <tr>\n",
              "      <th>0</th>\n",
              "      <td>1</td>\n",
              "      <td>0</td>\n",
              "      <td>0</td>\n",
              "      <td>0</td>\n",
              "      <td>0</td>\n",
              "      <td>0</td>\n",
              "      <td>0</td>\n",
              "      <td>0</td>\n",
              "      <td>0</td>\n",
              "      <td>0</td>\n",
              "      <td>0</td>\n",
              "      <td>0</td>\n",
              "      <td>0</td>\n",
              "      <td>0</td>\n",
              "      <td>0</td>\n",
              "      <td>0</td>\n",
              "      <td>0</td>\n",
              "      <td>0</td>\n",
              "      <td>0</td>\n",
              "      <td>0</td>\n",
              "      <td>0</td>\n",
              "      <td>1</td>\n",
              "      <td>0</td>\n",
              "    </tr>\n",
              "    <tr>\n",
              "      <th>1</th>\n",
              "      <td>1</td>\n",
              "      <td>0</td>\n",
              "      <td>0</td>\n",
              "      <td>0</td>\n",
              "      <td>0</td>\n",
              "      <td>0</td>\n",
              "      <td>0</td>\n",
              "      <td>0</td>\n",
              "      <td>0</td>\n",
              "      <td>0</td>\n",
              "      <td>0</td>\n",
              "      <td>0</td>\n",
              "      <td>0</td>\n",
              "      <td>0</td>\n",
              "      <td>1</td>\n",
              "      <td>0</td>\n",
              "      <td>0</td>\n",
              "      <td>0</td>\n",
              "      <td>0</td>\n",
              "      <td>0</td>\n",
              "      <td>0</td>\n",
              "      <td>0</td>\n",
              "      <td>0</td>\n",
              "    </tr>\n",
              "    <tr>\n",
              "      <th>2</th>\n",
              "      <td>1</td>\n",
              "      <td>0</td>\n",
              "      <td>0</td>\n",
              "      <td>0</td>\n",
              "      <td>0</td>\n",
              "      <td>0</td>\n",
              "      <td>0</td>\n",
              "      <td>0</td>\n",
              "      <td>0</td>\n",
              "      <td>0</td>\n",
              "      <td>0</td>\n",
              "      <td>0</td>\n",
              "      <td>1</td>\n",
              "      <td>0</td>\n",
              "      <td>0</td>\n",
              "      <td>0</td>\n",
              "      <td>0</td>\n",
              "      <td>0</td>\n",
              "      <td>0</td>\n",
              "      <td>0</td>\n",
              "      <td>0</td>\n",
              "      <td>0</td>\n",
              "      <td>0</td>\n",
              "    </tr>\n",
              "    <tr>\n",
              "      <th>3</th>\n",
              "      <td>1</td>\n",
              "      <td>0</td>\n",
              "      <td>0</td>\n",
              "      <td>0</td>\n",
              "      <td>0</td>\n",
              "      <td>0</td>\n",
              "      <td>0</td>\n",
              "      <td>0</td>\n",
              "      <td>0</td>\n",
              "      <td>0</td>\n",
              "      <td>1</td>\n",
              "      <td>0</td>\n",
              "      <td>0</td>\n",
              "      <td>0</td>\n",
              "      <td>0</td>\n",
              "      <td>0</td>\n",
              "      <td>0</td>\n",
              "      <td>0</td>\n",
              "      <td>0</td>\n",
              "      <td>0</td>\n",
              "      <td>0</td>\n",
              "      <td>0</td>\n",
              "      <td>0</td>\n",
              "    </tr>\n",
              "    <tr>\n",
              "      <th>4</th>\n",
              "      <td>1</td>\n",
              "      <td>0</td>\n",
              "      <td>0</td>\n",
              "      <td>0</td>\n",
              "      <td>0</td>\n",
              "      <td>0</td>\n",
              "      <td>0</td>\n",
              "      <td>0</td>\n",
              "      <td>0</td>\n",
              "      <td>0</td>\n",
              "      <td>0</td>\n",
              "      <td>0</td>\n",
              "      <td>0</td>\n",
              "      <td>0</td>\n",
              "      <td>0</td>\n",
              "      <td>0</td>\n",
              "      <td>1</td>\n",
              "      <td>0</td>\n",
              "      <td>0</td>\n",
              "      <td>0</td>\n",
              "      <td>0</td>\n",
              "      <td>0</td>\n",
              "      <td>0</td>\n",
              "    </tr>\n",
              "  </tbody>\n",
              "</table>\n",
              "</div>"
            ],
            "text/plain": [
              "   Crop_ARHAR  Crop_COTTON  ...  State_Uttar Pradesh  State_West Bengal\n",
              "0           1            0  ...                    1                  0\n",
              "1           1            0  ...                    0                  0\n",
              "2           1            0  ...                    0                  0\n",
              "3           1            0  ...                    0                  0\n",
              "4           1            0  ...                    0                  0\n",
              "\n",
              "[5 rows x 23 columns]"
            ]
          },
          "metadata": {},
          "execution_count": 139
        }
      ]
    },
    {
      "cell_type": "code",
      "metadata": {
        "colab": {
          "base_uri": "https://localhost:8080/",
          "height": 206
        },
        "id": "kzg1HRrz2c9_",
        "outputId": "6dba870d-5e87-450c-a691-ab19c06f0064"
      },
      "source": [
        "df=df.drop(['Crop','State'],axis=1)\n",
        "df.head()"
      ],
      "execution_count": 140,
      "outputs": [
        {
          "output_type": "execute_result",
          "data": {
            "text/html": [
              "<div>\n",
              "<style scoped>\n",
              "    .dataframe tbody tr th:only-of-type {\n",
              "        vertical-align: middle;\n",
              "    }\n",
              "\n",
              "    .dataframe tbody tr th {\n",
              "        vertical-align: top;\n",
              "    }\n",
              "\n",
              "    .dataframe thead th {\n",
              "        text-align: right;\n",
              "    }\n",
              "</style>\n",
              "<table border=\"1\" class=\"dataframe\">\n",
              "  <thead>\n",
              "    <tr style=\"text-align: right;\">\n",
              "      <th></th>\n",
              "      <th>Cost of Cultivation (`/Hectare) A2+FL</th>\n",
              "      <th>Cost of Cultivation (`/Hectare) C2</th>\n",
              "      <th>Cost of Production (`/Quintal) C2</th>\n",
              "      <th>Yield (Quintal/ Hectare)</th>\n",
              "    </tr>\n",
              "  </thead>\n",
              "  <tbody>\n",
              "    <tr>\n",
              "      <th>0</th>\n",
              "      <td>9794.05</td>\n",
              "      <td>23076.74</td>\n",
              "      <td>1941.55</td>\n",
              "      <td>9.83</td>\n",
              "    </tr>\n",
              "    <tr>\n",
              "      <th>1</th>\n",
              "      <td>10593.15</td>\n",
              "      <td>16528.68</td>\n",
              "      <td>2172.46</td>\n",
              "      <td>7.47</td>\n",
              "    </tr>\n",
              "    <tr>\n",
              "      <th>2</th>\n",
              "      <td>13468.82</td>\n",
              "      <td>19551.90</td>\n",
              "      <td>1898.30</td>\n",
              "      <td>9.59</td>\n",
              "    </tr>\n",
              "    <tr>\n",
              "      <th>3</th>\n",
              "      <td>17051.66</td>\n",
              "      <td>24171.65</td>\n",
              "      <td>3670.54</td>\n",
              "      <td>6.42</td>\n",
              "    </tr>\n",
              "    <tr>\n",
              "      <th>4</th>\n",
              "      <td>17130.55</td>\n",
              "      <td>25270.26</td>\n",
              "      <td>2775.80</td>\n",
              "      <td>8.72</td>\n",
              "    </tr>\n",
              "  </tbody>\n",
              "</table>\n",
              "</div>"
            ],
            "text/plain": [
              "   Cost of Cultivation (`/Hectare) A2+FL  ...  Yield (Quintal/ Hectare) \n",
              "0                                9794.05  ...                       9.83\n",
              "1                               10593.15  ...                       7.47\n",
              "2                               13468.82  ...                       9.59\n",
              "3                               17051.66  ...                       6.42\n",
              "4                               17130.55  ...                       8.72\n",
              "\n",
              "[5 rows x 4 columns]"
            ]
          },
          "metadata": {},
          "execution_count": 140
        }
      ]
    },
    {
      "cell_type": "code",
      "metadata": {
        "colab": {
          "base_uri": "https://localhost:8080/",
          "height": 206
        },
        "id": "At6loHI74ix9",
        "outputId": "a50f07ae-13ae-4b1d-90c0-30c188b88b77"
      },
      "source": [
        "df.head()"
      ],
      "execution_count": 141,
      "outputs": [
        {
          "output_type": "execute_result",
          "data": {
            "text/html": [
              "<div>\n",
              "<style scoped>\n",
              "    .dataframe tbody tr th:only-of-type {\n",
              "        vertical-align: middle;\n",
              "    }\n",
              "\n",
              "    .dataframe tbody tr th {\n",
              "        vertical-align: top;\n",
              "    }\n",
              "\n",
              "    .dataframe thead th {\n",
              "        text-align: right;\n",
              "    }\n",
              "</style>\n",
              "<table border=\"1\" class=\"dataframe\">\n",
              "  <thead>\n",
              "    <tr style=\"text-align: right;\">\n",
              "      <th></th>\n",
              "      <th>Cost of Cultivation (`/Hectare) A2+FL</th>\n",
              "      <th>Cost of Cultivation (`/Hectare) C2</th>\n",
              "      <th>Cost of Production (`/Quintal) C2</th>\n",
              "      <th>Yield (Quintal/ Hectare)</th>\n",
              "    </tr>\n",
              "  </thead>\n",
              "  <tbody>\n",
              "    <tr>\n",
              "      <th>0</th>\n",
              "      <td>9794.05</td>\n",
              "      <td>23076.74</td>\n",
              "      <td>1941.55</td>\n",
              "      <td>9.83</td>\n",
              "    </tr>\n",
              "    <tr>\n",
              "      <th>1</th>\n",
              "      <td>10593.15</td>\n",
              "      <td>16528.68</td>\n",
              "      <td>2172.46</td>\n",
              "      <td>7.47</td>\n",
              "    </tr>\n",
              "    <tr>\n",
              "      <th>2</th>\n",
              "      <td>13468.82</td>\n",
              "      <td>19551.90</td>\n",
              "      <td>1898.30</td>\n",
              "      <td>9.59</td>\n",
              "    </tr>\n",
              "    <tr>\n",
              "      <th>3</th>\n",
              "      <td>17051.66</td>\n",
              "      <td>24171.65</td>\n",
              "      <td>3670.54</td>\n",
              "      <td>6.42</td>\n",
              "    </tr>\n",
              "    <tr>\n",
              "      <th>4</th>\n",
              "      <td>17130.55</td>\n",
              "      <td>25270.26</td>\n",
              "      <td>2775.80</td>\n",
              "      <td>8.72</td>\n",
              "    </tr>\n",
              "  </tbody>\n",
              "</table>\n",
              "</div>"
            ],
            "text/plain": [
              "   Cost of Cultivation (`/Hectare) A2+FL  ...  Yield (Quintal/ Hectare) \n",
              "0                                9794.05  ...                       9.83\n",
              "1                               10593.15  ...                       7.47\n",
              "2                               13468.82  ...                       9.59\n",
              "3                               17051.66  ...                       6.42\n",
              "4                               17130.55  ...                       8.72\n",
              "\n",
              "[5 rows x 4 columns]"
            ]
          },
          "metadata": {},
          "execution_count": 141
        }
      ]
    },
    {
      "cell_type": "code",
      "metadata": {
        "colab": {
          "base_uri": "https://localhost:8080/",
          "height": 243
        },
        "id": "blZEevOB8F2K",
        "outputId": "80803b5c-23d6-4fac-bfe6-a24ec65b8787"
      },
      "source": [
        "df1=pd.DataFrame(x)\n",
        "df1.head()"
      ],
      "execution_count": 142,
      "outputs": [
        {
          "output_type": "execute_result",
          "data": {
            "text/html": [
              "<div>\n",
              "<style scoped>\n",
              "    .dataframe tbody tr th:only-of-type {\n",
              "        vertical-align: middle;\n",
              "    }\n",
              "\n",
              "    .dataframe tbody tr th {\n",
              "        vertical-align: top;\n",
              "    }\n",
              "\n",
              "    .dataframe thead th {\n",
              "        text-align: right;\n",
              "    }\n",
              "</style>\n",
              "<table border=\"1\" class=\"dataframe\">\n",
              "  <thead>\n",
              "    <tr style=\"text-align: right;\">\n",
              "      <th></th>\n",
              "      <th>Crop_ARHAR</th>\n",
              "      <th>Crop_COTTON</th>\n",
              "      <th>Crop_GRAM</th>\n",
              "      <th>Crop_GROUNDNUT</th>\n",
              "      <th>Crop_MAIZE</th>\n",
              "      <th>Crop_MOONG</th>\n",
              "      <th>Crop_PADDY</th>\n",
              "      <th>Crop_RAPESEED AND MUSTARD</th>\n",
              "      <th>Crop_SUGARCANE</th>\n",
              "      <th>Crop_WHEAT</th>\n",
              "      <th>State_Andhra Pradesh</th>\n",
              "      <th>State_Bihar</th>\n",
              "      <th>State_Gujarat</th>\n",
              "      <th>State_Haryana</th>\n",
              "      <th>State_Karnataka</th>\n",
              "      <th>State_Madhya Pradesh</th>\n",
              "      <th>State_Maharashtra</th>\n",
              "      <th>State_Orissa</th>\n",
              "      <th>State_Punjab</th>\n",
              "      <th>State_Rajasthan</th>\n",
              "      <th>State_Tamil Nadu</th>\n",
              "      <th>State_Uttar Pradesh</th>\n",
              "      <th>State_West Bengal</th>\n",
              "    </tr>\n",
              "  </thead>\n",
              "  <tbody>\n",
              "    <tr>\n",
              "      <th>0</th>\n",
              "      <td>1</td>\n",
              "      <td>0</td>\n",
              "      <td>0</td>\n",
              "      <td>0</td>\n",
              "      <td>0</td>\n",
              "      <td>0</td>\n",
              "      <td>0</td>\n",
              "      <td>0</td>\n",
              "      <td>0</td>\n",
              "      <td>0</td>\n",
              "      <td>0</td>\n",
              "      <td>0</td>\n",
              "      <td>0</td>\n",
              "      <td>0</td>\n",
              "      <td>0</td>\n",
              "      <td>0</td>\n",
              "      <td>0</td>\n",
              "      <td>0</td>\n",
              "      <td>0</td>\n",
              "      <td>0</td>\n",
              "      <td>0</td>\n",
              "      <td>1</td>\n",
              "      <td>0</td>\n",
              "    </tr>\n",
              "    <tr>\n",
              "      <th>1</th>\n",
              "      <td>1</td>\n",
              "      <td>0</td>\n",
              "      <td>0</td>\n",
              "      <td>0</td>\n",
              "      <td>0</td>\n",
              "      <td>0</td>\n",
              "      <td>0</td>\n",
              "      <td>0</td>\n",
              "      <td>0</td>\n",
              "      <td>0</td>\n",
              "      <td>0</td>\n",
              "      <td>0</td>\n",
              "      <td>0</td>\n",
              "      <td>0</td>\n",
              "      <td>1</td>\n",
              "      <td>0</td>\n",
              "      <td>0</td>\n",
              "      <td>0</td>\n",
              "      <td>0</td>\n",
              "      <td>0</td>\n",
              "      <td>0</td>\n",
              "      <td>0</td>\n",
              "      <td>0</td>\n",
              "    </tr>\n",
              "    <tr>\n",
              "      <th>2</th>\n",
              "      <td>1</td>\n",
              "      <td>0</td>\n",
              "      <td>0</td>\n",
              "      <td>0</td>\n",
              "      <td>0</td>\n",
              "      <td>0</td>\n",
              "      <td>0</td>\n",
              "      <td>0</td>\n",
              "      <td>0</td>\n",
              "      <td>0</td>\n",
              "      <td>0</td>\n",
              "      <td>0</td>\n",
              "      <td>1</td>\n",
              "      <td>0</td>\n",
              "      <td>0</td>\n",
              "      <td>0</td>\n",
              "      <td>0</td>\n",
              "      <td>0</td>\n",
              "      <td>0</td>\n",
              "      <td>0</td>\n",
              "      <td>0</td>\n",
              "      <td>0</td>\n",
              "      <td>0</td>\n",
              "    </tr>\n",
              "    <tr>\n",
              "      <th>3</th>\n",
              "      <td>1</td>\n",
              "      <td>0</td>\n",
              "      <td>0</td>\n",
              "      <td>0</td>\n",
              "      <td>0</td>\n",
              "      <td>0</td>\n",
              "      <td>0</td>\n",
              "      <td>0</td>\n",
              "      <td>0</td>\n",
              "      <td>0</td>\n",
              "      <td>1</td>\n",
              "      <td>0</td>\n",
              "      <td>0</td>\n",
              "      <td>0</td>\n",
              "      <td>0</td>\n",
              "      <td>0</td>\n",
              "      <td>0</td>\n",
              "      <td>0</td>\n",
              "      <td>0</td>\n",
              "      <td>0</td>\n",
              "      <td>0</td>\n",
              "      <td>0</td>\n",
              "      <td>0</td>\n",
              "    </tr>\n",
              "    <tr>\n",
              "      <th>4</th>\n",
              "      <td>1</td>\n",
              "      <td>0</td>\n",
              "      <td>0</td>\n",
              "      <td>0</td>\n",
              "      <td>0</td>\n",
              "      <td>0</td>\n",
              "      <td>0</td>\n",
              "      <td>0</td>\n",
              "      <td>0</td>\n",
              "      <td>0</td>\n",
              "      <td>0</td>\n",
              "      <td>0</td>\n",
              "      <td>0</td>\n",
              "      <td>0</td>\n",
              "      <td>0</td>\n",
              "      <td>0</td>\n",
              "      <td>1</td>\n",
              "      <td>0</td>\n",
              "      <td>0</td>\n",
              "      <td>0</td>\n",
              "      <td>0</td>\n",
              "      <td>0</td>\n",
              "      <td>0</td>\n",
              "    </tr>\n",
              "  </tbody>\n",
              "</table>\n",
              "</div>"
            ],
            "text/plain": [
              "   Crop_ARHAR  Crop_COTTON  ...  State_Uttar Pradesh  State_West Bengal\n",
              "0           1            0  ...                    1                  0\n",
              "1           1            0  ...                    0                  0\n",
              "2           1            0  ...                    0                  0\n",
              "3           1            0  ...                    0                  0\n",
              "4           1            0  ...                    0                  0\n",
              "\n",
              "[5 rows x 23 columns]"
            ]
          },
          "metadata": {},
          "execution_count": 142
        }
      ]
    },
    {
      "cell_type": "code",
      "metadata": {
        "colab": {
          "base_uri": "https://localhost:8080/"
        },
        "id": "3shR2Ppo812m",
        "outputId": "88aef54d-4537-41d3-ad2f-7f511306f1ed"
      },
      "source": [
        "df.columns"
      ],
      "execution_count": 143,
      "outputs": [
        {
          "output_type": "execute_result",
          "data": {
            "text/plain": [
              "Index(['Cost of Cultivation (`/Hectare) A2+FL',\n",
              "       'Cost of Cultivation (`/Hectare) C2',\n",
              "       'Cost of Production (`/Quintal) C2', 'Yield (Quintal/ Hectare) '],\n",
              "      dtype='object')"
            ]
          },
          "metadata": {},
          "execution_count": 143
        }
      ]
    },
    {
      "cell_type": "code",
      "metadata": {
        "id": "GC1TobDT8r87"
      },
      "source": [
        "df1['Cost of Cultivation (`/Hectare) A2+FL']=df['Cost of Cultivation (`/Hectare) A2+FL']\n",
        "df1['Cost of Cultivation (`/Hectare) C2']=df['Cost of Cultivation (`/Hectare) C2']\n",
        "df1['Cost of Production (`/Quintal) C2']=df['Cost of Production (`/Quintal) C2']\n",
        "df1['Yield (Quintal/ Hectare) ']=df['Yield (Quintal/ Hectare) ']"
      ],
      "execution_count": 144,
      "outputs": []
    },
    {
      "cell_type": "code",
      "metadata": {
        "colab": {
          "base_uri": "https://localhost:8080/",
          "height": 278
        },
        "id": "wl0K8O609PdF",
        "outputId": "6cab41a7-718b-4c1c-82cd-d3a3b1ab7212"
      },
      "source": [
        "df1.head()"
      ],
      "execution_count": 145,
      "outputs": [
        {
          "output_type": "execute_result",
          "data": {
            "text/html": [
              "<div>\n",
              "<style scoped>\n",
              "    .dataframe tbody tr th:only-of-type {\n",
              "        vertical-align: middle;\n",
              "    }\n",
              "\n",
              "    .dataframe tbody tr th {\n",
              "        vertical-align: top;\n",
              "    }\n",
              "\n",
              "    .dataframe thead th {\n",
              "        text-align: right;\n",
              "    }\n",
              "</style>\n",
              "<table border=\"1\" class=\"dataframe\">\n",
              "  <thead>\n",
              "    <tr style=\"text-align: right;\">\n",
              "      <th></th>\n",
              "      <th>Crop_ARHAR</th>\n",
              "      <th>Crop_COTTON</th>\n",
              "      <th>Crop_GRAM</th>\n",
              "      <th>Crop_GROUNDNUT</th>\n",
              "      <th>Crop_MAIZE</th>\n",
              "      <th>Crop_MOONG</th>\n",
              "      <th>Crop_PADDY</th>\n",
              "      <th>Crop_RAPESEED AND MUSTARD</th>\n",
              "      <th>Crop_SUGARCANE</th>\n",
              "      <th>Crop_WHEAT</th>\n",
              "      <th>State_Andhra Pradesh</th>\n",
              "      <th>State_Bihar</th>\n",
              "      <th>State_Gujarat</th>\n",
              "      <th>State_Haryana</th>\n",
              "      <th>State_Karnataka</th>\n",
              "      <th>State_Madhya Pradesh</th>\n",
              "      <th>State_Maharashtra</th>\n",
              "      <th>State_Orissa</th>\n",
              "      <th>State_Punjab</th>\n",
              "      <th>State_Rajasthan</th>\n",
              "      <th>State_Tamil Nadu</th>\n",
              "      <th>State_Uttar Pradesh</th>\n",
              "      <th>State_West Bengal</th>\n",
              "      <th>Cost of Cultivation (`/Hectare) A2+FL</th>\n",
              "      <th>Cost of Cultivation (`/Hectare) C2</th>\n",
              "      <th>Cost of Production (`/Quintal) C2</th>\n",
              "      <th>Yield (Quintal/ Hectare)</th>\n",
              "    </tr>\n",
              "  </thead>\n",
              "  <tbody>\n",
              "    <tr>\n",
              "      <th>0</th>\n",
              "      <td>1</td>\n",
              "      <td>0</td>\n",
              "      <td>0</td>\n",
              "      <td>0</td>\n",
              "      <td>0</td>\n",
              "      <td>0</td>\n",
              "      <td>0</td>\n",
              "      <td>0</td>\n",
              "      <td>0</td>\n",
              "      <td>0</td>\n",
              "      <td>0</td>\n",
              "      <td>0</td>\n",
              "      <td>0</td>\n",
              "      <td>0</td>\n",
              "      <td>0</td>\n",
              "      <td>0</td>\n",
              "      <td>0</td>\n",
              "      <td>0</td>\n",
              "      <td>0</td>\n",
              "      <td>0</td>\n",
              "      <td>0</td>\n",
              "      <td>1</td>\n",
              "      <td>0</td>\n",
              "      <td>9794.05</td>\n",
              "      <td>23076.74</td>\n",
              "      <td>1941.55</td>\n",
              "      <td>9.83</td>\n",
              "    </tr>\n",
              "    <tr>\n",
              "      <th>1</th>\n",
              "      <td>1</td>\n",
              "      <td>0</td>\n",
              "      <td>0</td>\n",
              "      <td>0</td>\n",
              "      <td>0</td>\n",
              "      <td>0</td>\n",
              "      <td>0</td>\n",
              "      <td>0</td>\n",
              "      <td>0</td>\n",
              "      <td>0</td>\n",
              "      <td>0</td>\n",
              "      <td>0</td>\n",
              "      <td>0</td>\n",
              "      <td>0</td>\n",
              "      <td>1</td>\n",
              "      <td>0</td>\n",
              "      <td>0</td>\n",
              "      <td>0</td>\n",
              "      <td>0</td>\n",
              "      <td>0</td>\n",
              "      <td>0</td>\n",
              "      <td>0</td>\n",
              "      <td>0</td>\n",
              "      <td>10593.15</td>\n",
              "      <td>16528.68</td>\n",
              "      <td>2172.46</td>\n",
              "      <td>7.47</td>\n",
              "    </tr>\n",
              "    <tr>\n",
              "      <th>2</th>\n",
              "      <td>1</td>\n",
              "      <td>0</td>\n",
              "      <td>0</td>\n",
              "      <td>0</td>\n",
              "      <td>0</td>\n",
              "      <td>0</td>\n",
              "      <td>0</td>\n",
              "      <td>0</td>\n",
              "      <td>0</td>\n",
              "      <td>0</td>\n",
              "      <td>0</td>\n",
              "      <td>0</td>\n",
              "      <td>1</td>\n",
              "      <td>0</td>\n",
              "      <td>0</td>\n",
              "      <td>0</td>\n",
              "      <td>0</td>\n",
              "      <td>0</td>\n",
              "      <td>0</td>\n",
              "      <td>0</td>\n",
              "      <td>0</td>\n",
              "      <td>0</td>\n",
              "      <td>0</td>\n",
              "      <td>13468.82</td>\n",
              "      <td>19551.90</td>\n",
              "      <td>1898.30</td>\n",
              "      <td>9.59</td>\n",
              "    </tr>\n",
              "    <tr>\n",
              "      <th>3</th>\n",
              "      <td>1</td>\n",
              "      <td>0</td>\n",
              "      <td>0</td>\n",
              "      <td>0</td>\n",
              "      <td>0</td>\n",
              "      <td>0</td>\n",
              "      <td>0</td>\n",
              "      <td>0</td>\n",
              "      <td>0</td>\n",
              "      <td>0</td>\n",
              "      <td>1</td>\n",
              "      <td>0</td>\n",
              "      <td>0</td>\n",
              "      <td>0</td>\n",
              "      <td>0</td>\n",
              "      <td>0</td>\n",
              "      <td>0</td>\n",
              "      <td>0</td>\n",
              "      <td>0</td>\n",
              "      <td>0</td>\n",
              "      <td>0</td>\n",
              "      <td>0</td>\n",
              "      <td>0</td>\n",
              "      <td>17051.66</td>\n",
              "      <td>24171.65</td>\n",
              "      <td>3670.54</td>\n",
              "      <td>6.42</td>\n",
              "    </tr>\n",
              "    <tr>\n",
              "      <th>4</th>\n",
              "      <td>1</td>\n",
              "      <td>0</td>\n",
              "      <td>0</td>\n",
              "      <td>0</td>\n",
              "      <td>0</td>\n",
              "      <td>0</td>\n",
              "      <td>0</td>\n",
              "      <td>0</td>\n",
              "      <td>0</td>\n",
              "      <td>0</td>\n",
              "      <td>0</td>\n",
              "      <td>0</td>\n",
              "      <td>0</td>\n",
              "      <td>0</td>\n",
              "      <td>0</td>\n",
              "      <td>0</td>\n",
              "      <td>1</td>\n",
              "      <td>0</td>\n",
              "      <td>0</td>\n",
              "      <td>0</td>\n",
              "      <td>0</td>\n",
              "      <td>0</td>\n",
              "      <td>0</td>\n",
              "      <td>17130.55</td>\n",
              "      <td>25270.26</td>\n",
              "      <td>2775.80</td>\n",
              "      <td>8.72</td>\n",
              "    </tr>\n",
              "  </tbody>\n",
              "</table>\n",
              "</div>"
            ],
            "text/plain": [
              "   Crop_ARHAR  ...  Yield (Quintal/ Hectare) \n",
              "0           1  ...                       9.83\n",
              "1           1  ...                       7.47\n",
              "2           1  ...                       9.59\n",
              "3           1  ...                       6.42\n",
              "4           1  ...                       8.72\n",
              "\n",
              "[5 rows x 27 columns]"
            ]
          },
          "metadata": {},
          "execution_count": 145
        }
      ]
    },
    {
      "cell_type": "code",
      "metadata": {
        "id": "cV8C3lpn4kXO"
      },
      "source": [
        "X=df1.drop('Yield (Quintal/ Hectare) ',axis=1)\n",
        "y=df1['Yield (Quintal/ Hectare) ']\n",
        "# df.columns"
      ],
      "execution_count": 146,
      "outputs": []
    },
    {
      "cell_type": "code",
      "metadata": {
        "colab": {
          "base_uri": "https://localhost:8080/",
          "height": 309
        },
        "id": "1foDolja4wzH",
        "outputId": "2a2c2df6-02da-41fc-b918-b4106de18857"
      },
      "source": [
        "import seaborn as sns\n",
        "import warnings\n",
        "warnings.filterwarnings('ignore')\n",
        "sns.distplot(df1['Cost of Cultivation (`/Hectare) A2+FL'],color='green')"
      ],
      "execution_count": 147,
      "outputs": [
        {
          "output_type": "execute_result",
          "data": {
            "text/plain": [
              "<matplotlib.axes._subplots.AxesSubplot at 0x7f552586e410>"
            ]
          },
          "metadata": {},
          "execution_count": 147
        },
        {
          "output_type": "display_data",
          "data": {
            "image/png": "[encoded data removed]",
            "text/plain": [
              "<Figure size 432x288 with 1 Axes>"
            ]
          },
          "metadata": {
            "needs_background": "light"
          }
        }
      ]
    },
    {
      "cell_type": "code",
      "metadata": {
        "colab": {
          "base_uri": "https://localhost:8080/",
          "height": 309
        },
        "id": "x6OxWlW7912j",
        "outputId": "40026c96-6ae3-4372-8005-98a4e5c4ad20"
      },
      "source": [
        "sns.distplot(df1['Cost of Cultivation (`/Hectare) C2'],color='red')"
      ],
      "execution_count": 148,
      "outputs": [
        {
          "output_type": "execute_result",
          "data": {
            "text/plain": [
              "<matplotlib.axes._subplots.AxesSubplot at 0x7f55257c64d0>"
            ]
          },
          "metadata": {},
          "execution_count": 148
        },
        {
          "output_type": "display_data",
          "data": {
            "image/png": "[encoded data removed]",
            "text/plain": [
              "<Figure size 432x288 with 1 Axes>"
            ]
          },
          "metadata": {
            "needs_background": "light"
          }
        }
      ]
    },
    {
      "cell_type": "code",
      "metadata": {
        "colab": {
          "base_uri": "https://localhost:8080/",
          "height": 297
        },
        "id": "tLFALvcs-BMQ",
        "outputId": "9e72d447-b81e-46f7-f761-23a11143404f"
      },
      "source": [
        "sns.distplot(df1['Cost of Production (`/Quintal) C2'],color='blue')"
      ],
      "execution_count": 149,
      "outputs": [
        {
          "output_type": "execute_result",
          "data": {
            "text/plain": [
              "<matplotlib.axes._subplots.AxesSubplot at 0x7f552577c810>"
            ]
          },
          "metadata": {},
          "execution_count": 149
        },
        {
          "output_type": "display_data",
          "data": {
            "image/png": "[encoded data removed]",
            "text/plain": [
              "<Figure size 432x288 with 1 Axes>"
            ]
          },
          "metadata": {
            "needs_background": "light"
          }
        }
      ]
    },
    {
      "cell_type": "code",
      "metadata": {
        "colab": {
          "base_uri": "https://localhost:8080/",
          "height": 297
        },
        "id": "J0X6HeIA-dtn",
        "outputId": "8ffb83bc-7e38-4dd1-ef5e-e7dc87f4e798"
      },
      "source": [
        "sns.distplot(df1['Yield (Quintal/ Hectare) '],color='orange')"
      ],
      "execution_count": 150,
      "outputs": [
        {
          "output_type": "execute_result",
          "data": {
            "text/plain": [
              "<matplotlib.axes._subplots.AxesSubplot at 0x7f55256bb2d0>"
            ]
          },
          "metadata": {},
          "execution_count": 150
        },
        {
          "output_type": "display_data",
          "data": {
            "image/png": "[encoded data removed]",
            "text/plain": [
              "<Figure size 432x288 with 1 Axes>"
            ]
          },
          "metadata": {
            "needs_background": "light"
          }
        }
      ]
    },
    {
      "cell_type": "code",
      "metadata": {
        "colab": {
          "base_uri": "https://localhost:8080/",
          "height": 753
        },
        "id": "O77aBSFt-8FF",
        "outputId": "5a6a560c-66c3-479b-9ba3-5442849d7d25"
      },
      "source": [
        "import matplotlib.pyplot as plt\n",
        "plt.figure(figsize=(10,8),dpi= 80)\n",
        "sns.heatmap(df1.corr(), xticklabels=df1.corr().columns, yticklabels=df1.corr().columns, cmap='RdYlGn', center=0, annot=False)"
      ],
      "execution_count": 130,
      "outputs": [
        {
          "output_type": "execute_result",
          "data": {
            "text/plain": [
              "<matplotlib.axes._subplots.AxesSubplot at 0x7f5523ae6610>"
            ]
          },
          "metadata": {},
          "execution_count": 130
        },
        {
          "output_type": "display_data",
          "data": {
            "image/png": "[encoded data removed]",
            "text/plain": [
              "<Figure size 800x640 with 2 Axes>"
            ]
          },
          "metadata": {
            "needs_background": "light"
          }
        }
      ]
    },
    {
      "cell_type": "code",
      "metadata": {
        "id": "vuaTqtIXDL9u"
      },
      "source": [
        "X=df1.drop('Yield (Quintal/ Hectare) ',axis=1)\n",
        "Y=df1['Yield (Quintal/ Hectare) ']"
      ],
      "execution_count": 157,
      "outputs": []
    },
    {
      "cell_type": "code",
      "metadata": {
        "id": "LMRQKn6LDF1_"
      },
      "source": [
        "from sklearn.model_selection import train_test_split\n",
        "X_train, X_test, y_train, y_test = train_test_split(X, Y, test_size = 0.2, random_state=0)"
      ],
      "execution_count": 158,
      "outputs": []
    },
    {
      "cell_type": "code",
      "metadata": {
        "colab": {
          "base_uri": "https://localhost:8080/"
        },
        "id": "JOw5z7k-DdGf",
        "outputId": "25c43b60-8354-44de-ffb3-bdf6446c5d90"
      },
      "source": [
        "from sklearn.ensemble import RandomForestRegressor\n",
        "reg=RandomForestRegressor(n_jobs=-1)\n",
        "reg.fit(X_train, y_train)"
      ],
      "execution_count": 159,
      "outputs": [
        {
          "output_type": "execute_result",
          "data": {
            "text/plain": [
              "RandomForestRegressor(bootstrap=True, ccp_alpha=0.0, criterion='mse',\n",
              "                      max_depth=None, max_features='auto', max_leaf_nodes=None,\n",
              "                      max_samples=None, min_impurity_decrease=0.0,\n",
              "                      min_impurity_split=None, min_samples_leaf=1,\n",
              "                      min_samples_split=2, min_weight_fraction_leaf=0.0,\n",
              "                      n_estimators=100, n_jobs=-1, oob_score=False,\n",
              "                      random_state=None, verbose=0, warm_start=False)"
            ]
          },
          "metadata": {},
          "execution_count": 159
        }
      ]
    },
    {
      "cell_type": "code",
      "metadata": {
        "id": "bqoRuZSaEB8o"
      },
      "source": [
        "y_train_pred = reg.predict(X_train)\n",
        "y_test_pred = reg.predict(X_test)"
      ],
      "execution_count": 160,
      "outputs": []
    },
    {
      "cell_type": "code",
      "metadata": {
        "colab": {
          "base_uri": "https://localhost:8080/"
        },
        "id": "2vI5QBtPEEjy",
        "outputId": "d88b887c-a560-4003-f074-9cce398325f5"
      },
      "source": [
        "from sklearn.metrics import r2_score\n",
        "print(\"R-squared of train data: \", r2_score(y_train.values, y_train_pred))\n",
        "print(\"R-squared of test data: \", r2_score(y_test, y_test_pred))"
      ],
      "execution_count": 161,
      "outputs": [
        {
          "output_type": "stream",
          "name": "stdout",
          "text": [
            "R-squared of train data:  0.99423880998527\n",
            "R-squared of test data:  0.9574696968120976\n"
          ]
        }
      ]
    },
    {
      "cell_type": "code",
      "metadata": {
        "id": "et4mQTHrGYpB"
      },
      "source": [
        ""
      ],
      "execution_count": null,
      "outputs": []
    }
  ]
}